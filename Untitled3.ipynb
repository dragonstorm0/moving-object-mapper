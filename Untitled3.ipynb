{
 "cells": [
  {
   "cell_type": "code",
   "execution_count": 3,
   "metadata": {},
   "outputs": [],
   "source": [
    "import os\n",
    "import re\n",
    "import cv2 # opencv library\n",
    "import numpy as np\n",
    "from os.path import isfile, join\n",
    "import matplotlib.pyplot as plt\n",
    "vdo=cv2.VideoCapture(\"cut.mp4\")\n",
    "col_images=[]\n",
    "while(True):\n",
    "    flag,img=vdo.read()\n",
    "    if(flag==False):\n",
    "        break\n",
    "    else:\n",
    "        col_images.append(img)"
   ]
  },
  {
   "cell_type": "code",
   "execution_count": 6,
   "metadata": {},
   "outputs": [],
   "source": [
    "for frame in range(len(col_images)-1):\n",
    "    #frames converted to grayscale\n",
    "    grayA = cv2.cvtColor(col_images[frame], cv2.COLOR_BGR2GRAY)\n",
    "    grayB = cv2.cvtColor(col_images[frame+1], cv2.COLOR_BGR2GRAY)\n",
    "    #frame differencing\n",
    "    diff_image = cv2.absdiff(grayB, grayA)\n",
    "    #image thresholding\n",
    "    ret, thresh = cv2.threshold(diff_image, 30, 255, cv2.THRESH_BINARY)\n",
    "    #image dilation\n",
    "    kernel = np.ones((3,3),np.uint8)\n",
    "    dilated = cv2.dilate(thresh,kernel,iterations = 1)\n",
    "    # plot dilated image\n",
    "    cv2.imshow('image',dilated)\n",
    "    k=cv2.waitKey(10)\n",
    "    if(k==ord('q')):\n",
    "        break\n",
    "vdo.release()\n",
    "cv2.destroyAllWindows()"
   ]
  },
  {
   "cell_type": "code",
   "execution_count": null,
   "metadata": {},
   "outputs": [],
   "source": []
  }
 ],
 "metadata": {
  "kernelspec": {
   "display_name": "Python 3",
   "language": "python",
   "name": "python3"
  },
  "language_info": {
   "codemirror_mode": {
    "name": "ipython",
    "version": 3
   },
   "file_extension": ".py",
   "mimetype": "text/x-python",
   "name": "python",
   "nbconvert_exporter": "python",
   "pygments_lexer": "ipython3",
   "version": "3.7.4"
  }
 },
 "nbformat": 4,
 "nbformat_minor": 4
}
